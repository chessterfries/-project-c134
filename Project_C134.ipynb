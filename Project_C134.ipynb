{
  "nbformat": 4,
  "nbformat_minor": 0,
  "metadata": {
    "colab": {
      "provenance": [],
      "authorship_tag": "ABX9TyPWm/8cvDvmqhxWMTYR9/NM",
      "include_colab_link": true
    },
    "kernelspec": {
      "name": "python3",
      "display_name": "Python 3"
    },
    "language_info": {
      "name": "python"
    }
  },
  "cells": [
    {
      "cell_type": "markdown",
      "metadata": {
        "id": "view-in-github",
        "colab_type": "text"
      },
      "source": [
        "<a href=\"https://colab.research.google.com/github/chessterfries/-project-c134/blob/main/Project_C134.ipynb\" target=\"_parent\"><img src=\"https://colab.research.google.com/assets/colab-badge.svg\" alt=\"Open In Colab\"/></a>"
      ]
    },
    {
      "cell_type": "code",
      "execution_count": 1,
      "metadata": {
        "colab": {
          "base_uri": "https://localhost:8080/",
          "height": 73
        },
        "id": "3VGsDdTqtXWH",
        "outputId": "f48d9de5-665e-4e76-bcb0-1be96de0a461"
      },
      "outputs": [
        {
          "output_type": "display_data",
          "data": {
            "text/plain": [
              "<IPython.core.display.HTML object>"
            ],
            "text/html": [
              "\n",
              "     <input type=\"file\" id=\"files-4da8b7d6-d883-42a2-9f24-cf848a337128\" name=\"files[]\" multiple disabled\n",
              "        style=\"border:none\" />\n",
              "     <output id=\"result-4da8b7d6-d883-42a2-9f24-cf848a337128\">\n",
              "      Upload widget is only available when the cell has been executed in the\n",
              "      current browser session. Please rerun this cell to enable.\n",
              "      </output>\n",
              "      <script>// Copyright 2017 Google LLC\n",
              "//\n",
              "// Licensed under the Apache License, Version 2.0 (the \"License\");\n",
              "// you may not use this file except in compliance with the License.\n",
              "// You may obtain a copy of the License at\n",
              "//\n",
              "//      http://www.apache.org/licenses/LICENSE-2.0\n",
              "//\n",
              "// Unless required by applicable law or agreed to in writing, software\n",
              "// distributed under the License is distributed on an \"AS IS\" BASIS,\n",
              "// WITHOUT WARRANTIES OR CONDITIONS OF ANY KIND, either express or implied.\n",
              "// See the License for the specific language governing permissions and\n",
              "// limitations under the License.\n",
              "\n",
              "/**\n",
              " * @fileoverview Helpers for google.colab Python module.\n",
              " */\n",
              "(function(scope) {\n",
              "function span(text, styleAttributes = {}) {\n",
              "  const element = document.createElement('span');\n",
              "  element.textContent = text;\n",
              "  for (const key of Object.keys(styleAttributes)) {\n",
              "    element.style[key] = styleAttributes[key];\n",
              "  }\n",
              "  return element;\n",
              "}\n",
              "\n",
              "// Max number of bytes which will be uploaded at a time.\n",
              "const MAX_PAYLOAD_SIZE = 100 * 1024;\n",
              "\n",
              "function _uploadFiles(inputId, outputId) {\n",
              "  const steps = uploadFilesStep(inputId, outputId);\n",
              "  const outputElement = document.getElementById(outputId);\n",
              "  // Cache steps on the outputElement to make it available for the next call\n",
              "  // to uploadFilesContinue from Python.\n",
              "  outputElement.steps = steps;\n",
              "\n",
              "  return _uploadFilesContinue(outputId);\n",
              "}\n",
              "\n",
              "// This is roughly an async generator (not supported in the browser yet),\n",
              "// where there are multiple asynchronous steps and the Python side is going\n",
              "// to poll for completion of each step.\n",
              "// This uses a Promise to block the python side on completion of each step,\n",
              "// then passes the result of the previous step as the input to the next step.\n",
              "function _uploadFilesContinue(outputId) {\n",
              "  const outputElement = document.getElementById(outputId);\n",
              "  const steps = outputElement.steps;\n",
              "\n",
              "  const next = steps.next(outputElement.lastPromiseValue);\n",
              "  return Promise.resolve(next.value.promise).then((value) => {\n",
              "    // Cache the last promise value to make it available to the next\n",
              "    // step of the generator.\n",
              "    outputElement.lastPromiseValue = value;\n",
              "    return next.value.response;\n",
              "  });\n",
              "}\n",
              "\n",
              "/**\n",
              " * Generator function which is called between each async step of the upload\n",
              " * process.\n",
              " * @param {string} inputId Element ID of the input file picker element.\n",
              " * @param {string} outputId Element ID of the output display.\n",
              " * @return {!Iterable<!Object>} Iterable of next steps.\n",
              " */\n",
              "function* uploadFilesStep(inputId, outputId) {\n",
              "  const inputElement = document.getElementById(inputId);\n",
              "  inputElement.disabled = false;\n",
              "\n",
              "  const outputElement = document.getElementById(outputId);\n",
              "  outputElement.innerHTML = '';\n",
              "\n",
              "  const pickedPromise = new Promise((resolve) => {\n",
              "    inputElement.addEventListener('change', (e) => {\n",
              "      resolve(e.target.files);\n",
              "    });\n",
              "  });\n",
              "\n",
              "  const cancel = document.createElement('button');\n",
              "  inputElement.parentElement.appendChild(cancel);\n",
              "  cancel.textContent = 'Cancel upload';\n",
              "  const cancelPromise = new Promise((resolve) => {\n",
              "    cancel.onclick = () => {\n",
              "      resolve(null);\n",
              "    };\n",
              "  });\n",
              "\n",
              "  // Wait for the user to pick the files.\n",
              "  const files = yield {\n",
              "    promise: Promise.race([pickedPromise, cancelPromise]),\n",
              "    response: {\n",
              "      action: 'starting',\n",
              "    }\n",
              "  };\n",
              "\n",
              "  cancel.remove();\n",
              "\n",
              "  // Disable the input element since further picks are not allowed.\n",
              "  inputElement.disabled = true;\n",
              "\n",
              "  if (!files) {\n",
              "    return {\n",
              "      response: {\n",
              "        action: 'complete',\n",
              "      }\n",
              "    };\n",
              "  }\n",
              "\n",
              "  for (const file of files) {\n",
              "    const li = document.createElement('li');\n",
              "    li.append(span(file.name, {fontWeight: 'bold'}));\n",
              "    li.append(span(\n",
              "        `(${file.type || 'n/a'}) - ${file.size} bytes, ` +\n",
              "        `last modified: ${\n",
              "            file.lastModifiedDate ? file.lastModifiedDate.toLocaleDateString() :\n",
              "                                    'n/a'} - `));\n",
              "    const percent = span('0% done');\n",
              "    li.appendChild(percent);\n",
              "\n",
              "    outputElement.appendChild(li);\n",
              "\n",
              "    const fileDataPromise = new Promise((resolve) => {\n",
              "      const reader = new FileReader();\n",
              "      reader.onload = (e) => {\n",
              "        resolve(e.target.result);\n",
              "      };\n",
              "      reader.readAsArrayBuffer(file);\n",
              "    });\n",
              "    // Wait for the data to be ready.\n",
              "    let fileData = yield {\n",
              "      promise: fileDataPromise,\n",
              "      response: {\n",
              "        action: 'continue',\n",
              "      }\n",
              "    };\n",
              "\n",
              "    // Use a chunked sending to avoid message size limits. See b/62115660.\n",
              "    let position = 0;\n",
              "    do {\n",
              "      const length = Math.min(fileData.byteLength - position, MAX_PAYLOAD_SIZE);\n",
              "      const chunk = new Uint8Array(fileData, position, length);\n",
              "      position += length;\n",
              "\n",
              "      const base64 = btoa(String.fromCharCode.apply(null, chunk));\n",
              "      yield {\n",
              "        response: {\n",
              "          action: 'append',\n",
              "          file: file.name,\n",
              "          data: base64,\n",
              "        },\n",
              "      };\n",
              "\n",
              "      let percentDone = fileData.byteLength === 0 ?\n",
              "          100 :\n",
              "          Math.round((position / fileData.byteLength) * 100);\n",
              "      percent.textContent = `${percentDone}% done`;\n",
              "\n",
              "    } while (position < fileData.byteLength);\n",
              "  }\n",
              "\n",
              "  // All done.\n",
              "  yield {\n",
              "    response: {\n",
              "      action: 'complete',\n",
              "    }\n",
              "  };\n",
              "}\n",
              "\n",
              "scope.google = scope.google || {};\n",
              "scope.google.colab = scope.google.colab || {};\n",
              "scope.google.colab._files = {\n",
              "  _uploadFiles,\n",
              "  _uploadFilesContinue,\n",
              "};\n",
              "})(self);\n",
              "</script> "
            ]
          },
          "metadata": {}
        },
        {
          "output_type": "stream",
          "name": "stdout",
          "text": [
            "Saving gravitystar.csv to gravitystar.csv\n"
          ]
        }
      ],
      "source": [
        "from google.colab import files\n",
        "data_to_load = files.upload()"
      ]
    },
    {
      "cell_type": "code",
      "source": [
        "import pandas as pd\n",
        "import matplotlib.pyplot as plt\n",
        "\n",
        "df = pd.read_csv(\"gravitystar.csv\")\n",
        "print(df.head())"
      ],
      "metadata": {
        "colab": {
          "base_uri": "https://localhost:8080/"
        },
        "id": "ZwJTsZdCtpx6",
        "outputId": "16d7095e-79f5-4f9b-a46d-915987d0f4b3"
      },
      "execution_count": 2,
      "outputs": [
        {
          "output_type": "stream",
          "name": "stdout",
          "text": [
            "   Unnamed: 0       Star_name    Distance  Mass  Radius     Gravity\n",
            "0           0             Sun    0.000016   1.0    1.00  274.269161\n",
            "1           1          Sirius    8.600000   2.1    1.71  196.971800\n",
            "2           2         Canopus  310.000000  15.0   71.00    0.816115\n",
            "3           3  Alpha Centauri    4.400000   1.1    1.20  209.511165\n",
            "4           4        Arcturus   37.000000   1.1   26.00    0.446296\n"
          ]
        }
      ]
    },
    {
      "cell_type": "code",
      "source": [
        "star_distance = df[\"Distance\"]\n",
        "filtered_star_distance = []\n",
        "for distance in star_distance:\n",
        "  if distance <= 100:\n",
        "    filtered_star_distance.append(distance)\n",
        "\n",
        "print(filtered_star_distance)"
      ],
      "metadata": {
        "colab": {
          "base_uri": "https://localhost:8080/"
        },
        "id": "T1rdF0kmuYiu",
        "outputId": "c162b847-f42e-4431-d6bb-7620e90c5455"
      },
      "execution_count": 14,
      "outputs": [
        {
          "output_type": "stream",
          "name": "stdout",
          "text": [
            "[1.5813e-05, 8.6, 4.4, 37.0, 25.0, 43.0, 11.4, 17.0, 65.0, 34.0, 25.0, 77.0, 52.0, 88.0, 81.0, 81.0, 80.0, 11.9, 19.92, 10.48, 44.25, 11.41, 36.1, 12.87, 5.98, 6.52, 4.25, 47.5, 18.72, 39.6, 40.3, 7.27, 46.1, 37.7, 87.2, 31.0, 28.6, 57.0, 40.0, 34.0, 96.0, 70.0, 51.0, 70.0, 35.0, 53.0, 12.578, 24.0, 16.2, 45.0, 47.0, 59.0, 80.0, 98.0, 27.0, 20.9, 88.0, 48.0, 29.8, 18.6, 85.0, 34.0, 29.5, 82.0, 42.0, 69.0, 44.0, 64.0, 73.0, 40.0, 41.62, 34.6, 39.0, 65.0, 51.0, 60.0, 13.4, 29.6, 25.8, 49.0, 55.0, 60.0, 16.1, 35.0, 43.0, 55.0, 77.0, 23.53, 43.0, 27.6, 50.0, 20.0, 17.4, 59.0, 46.0, 55.0, 60.0, 53.0, 34.4, 13.15, 6.516, 6.516, 49.0, 63.0, 18.2, 31.0, 36.0, 45.6, 38.0, 61.0, 61.0, 65.0, 48.0, 51.0, 29.7, 38.0, 38.5, 47.0, 72.0, 47.0, 35.1, 20.7, 71.0, 46.0, 23.9, 53.0, 34.0, 67.0, 51.0, 37.0, 68.0, 44.0, 48.0, 36.0, 50.0, 28.0, 60.0, 90.0, 39.0, 18.5, 46.0, 65.0, 47.0, 62.0, 80.0, 32.1, 26.3, 93.0, 38.0, 35.0, 64.0, 56.0, 56.0, 67.0, 74.0, 20.0, 35.9, 35.9, 25.3]\n"
          ]
        }
      ]
    },
    {
      "cell_type": "code",
      "source": [
        "star_gravity = df[\"Gravity\"]\n",
        "filtered_star_gravity = []\n",
        "for gravity in star_gravity:\n",
        "  if gravity >= 150 and gravity <= 350:\n",
        "    filtered_star_gravity.append(gravity)\n",
        "\n",
        "print(filtered_star_gravity)"
      ],
      "metadata": {
        "colab": {
          "base_uri": "https://localhost:8080/"
        },
        "id": "oUeZSQLf3s_5",
        "outputId": "c0efb151-b371-4e92-eea5-f8ef452e7d15"
      },
      "execution_count": 17,
      "outputs": [
        {
          "output_type": "stream",
          "name": "stdout",
          "text": [
            "[274.2691614595739, 196.971799550325, 209.51116500384123, 152.37175636642996, 160.8368539423427, 269.2996711047934, 182.61269753187165, 159.02202111653529, 235.9037604224493, 279.8664912852796, 157.10819615734286, 282.6363157577489, 177.29553270309606, 217.2787267524544, 176.04104671648304, 188.93802326300383, 191.292368446984, 158.86484308965376, 188.93802326300383, 336.7014134799189, 206.9336226190817, 264.0615700747245, 284.5781383444831, 249.14464404913377, 172.14803783504922, 273.3886765721481, 349.1718362013974, 336.7014134799189, 156.25218516002334, 153.6721947060209, 298.8070452617073, 303.58098872536374, 175.3653195207912, 308.3463412722992, 336.7014134799189, 178.78094402431125, 307.96477299400283, 166.71476840857292]\n"
          ]
        }
      ]
    },
    {
      "cell_type": "code",
      "source": [
        "star_name = df[\"Star_name\"]\n",
        "star_mass = df[\"Mass\"]\n",
        "star_radius = df[\"Radius\"]\n",
        "\n",
        "df2 = pd.DataFrame(list(zip(star_name, filtered_star_distance, star_mass, star_radius, filtered_star_gravity)),columns=['Star_name','Distance','Mass','Radius','Gravity'])\n",
        "df2.to_csv(\"filtered.csv\")"
      ],
      "metadata": {
        "id": "VQkhpiqk5Zpp"
      },
      "execution_count": 20,
      "outputs": []
    }
  ]
}